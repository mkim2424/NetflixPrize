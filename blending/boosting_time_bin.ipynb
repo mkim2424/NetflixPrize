{
 "cells": [
  {
   "cell_type": "code",
   "execution_count": 47,
   "metadata": {},
   "outputs": [],
   "source": [
    "import numpy as np\n",
    "from xgboost import XGBRegressor, XGBClassifier\n",
    "import matplotlib.pyplot as plt\n",
    "from sklearn.metrics import accuracy_score, r2_score, mean_squared_error\n",
    "import time\n",
    "NUM_BINS = 2\n",
    "NUM_TRAINING = 102416306 - 2749898\n",
    "NUM_QUAL = 2749898"
   ]
  },
  {
   "cell_type": "code",
   "execution_count": 48,
   "metadata": {},
   "outputs": [],
   "source": [
    "# predictions on probe\n",
    "probe_predictions = [#\"data/kevin/probe/out_probe_svd_1.92.dta\",\n",
    "                     #\"data/misc/all_mean_probe.dta\",\n",
    "                     \"data/frank/SVDPP_prediction_probe4-04.dta\",\n",
    "                     #\"data/kevin/probe/out_probe_knn_2.dta\",\n",
    "                     \"data/james/probe/SVD_probe5-08.dta\",\n",
    "                     \"data/james/probe/Time_SVDpp_probe6-50.dta\",\n",
    "                     \"data/james/probe/baseline_probe.dta\",\n",
    "                     \"data/james/probe/Time_SVDpp_paper_probe.dta\",\n",
    "                     \"data/james/probe/SVDpp_probe5-46.dta\",\n",
    "                     \"data/james/probe/FactorNM_probe.dta\",\n",
    "                     \"data/kevin/probe/f_knn_p.dta\",\n",
    "                     \"data/james/probe/time_probe_k_200.dta\",\n",
    "                     #\"data/kevin/probe/f_rsvd_p.dta\",\n",
    "                     \"data/james/probe/svdpp_200_probe.dta\",\n",
    "                     \"data/james/probe/Time_SVD_probe200k.dta\",\n",
    "                     \"data/james/probe/rsvd_probe200k.dta\",\n",
    "                     \"data/james/probe/BEST_probe.dta\"\n",
    "        \n",
    "                    ]                                    \n",
    "# predictions on quiz\n",
    "qual_predictions = [#\"data/kevin/qual/out_qual_svd_1.92.dta\",\n",
    "                    #\"data/misc/all_mean_qual.dta\",\n",
    "                    \"data/frank/SVDPP_prediction_qual4-04.dta\",\n",
    "                    #\"data/kevin/qual/out_qual_knn_2.dta\"\n",
    "                    \"data/james/qual/SVD_qual5-08.dta\",\n",
    "                    \"data/james/qual/Time_SVDpp_qual6-50.dta\",\n",
    "                    \"data/james/qual/baseline_qual.dta\",\n",
    "                    \"data/james/qual/Time_SVDpp_paper_qual.dta\",\n",
    "                    \"data/james/qual/SVDpp_qual5-46.dta\",\n",
    "                    \"data/james/qual/FactorNM_qual.dta\",\n",
    "                    \"data/kevin/qual/f_knn_q.dta\",\n",
    "                    \"data/james/qual/time_qual_k_200.dta\",\n",
    "                    #\"data/kevin/qual/f_rsvd_q.dta\"\n",
    "                    \"data/james/qual/svdpp_200_qual.dta\",\n",
    "                    \"data/james/qual/Time_SVD_qual200k.dta\",\n",
    "                    \"data/james/qual/rsvd_qual200k.dta\",\n",
    "                    \"data/james/qual/BEST_qual.dta\"\n",
    "                    ]\n",
    "num_models = 0"
   ]
  },
  {
   "cell_type": "code",
   "execution_count": 49,
   "metadata": {},
   "outputs": [
    {
     "name": "stdout",
     "output_type": "stream",
     "text": [
      "GOOD TO GO\n"
     ]
    }
   ],
   "source": [
    "# check if length of probe_predictions matches length of quiz predictions\n",
    "if len(probe_predictions) == len(qual_predictions):\n",
    "    num_models = len(probe_predictions)\n",
    "    print(\"GOOD TO GO\")\n",
    "else:\n",
    "    print(\"WE HAVE A PROBLEM\")"
   ]
  },
  {
   "cell_type": "code",
   "execution_count": 50,
   "metadata": {},
   "outputs": [],
   "source": [
    "# load predictions on probe\n",
    "X_train = []\n",
    "for preds in probe_predictions:\n",
    "    X_train.append(np.loadtxt(preds).astype(float))\n",
    "# load probe (just the ratings)\n",
    "probe = np.loadtxt('probe_ratings.dta').astype(int)"
   ]
  },
  {
   "cell_type": "code",
   "execution_count": 51,
   "metadata": {},
   "outputs": [],
   "source": [
    "# load predictions on quiz\n",
    "X_test = []\n",
    "for preds in qual_predictions:\n",
    "    X_test.append(np.loadtxt(preds).astype(float))"
   ]
  },
  {
   "cell_type": "code",
   "execution_count": 52,
   "metadata": {
    "scrolled": true
   },
   "outputs": [
    {
     "name": "stdout",
     "output_type": "stream",
     "text": [
      "[[     1  14708   2160]\n",
      " [     1  16933   2160]\n",
      " [     2   3912   2039]\n",
      " ...\n",
      " [458292  13157   2211]\n",
      " [458292  14582   2184]\n",
      " [458293   8578   2224]]\n",
      "[[     1   4624   2160]\n",
      " [     1   7218   2160]\n",
      " [     1   8346   2160]\n",
      " ...\n",
      " [458293  12636   2232]\n",
      " [458293  15905   2224]\n",
      " [458293  17425   2236]]\n"
     ]
    }
   ],
   "source": [
    "# load probe (user, movie, time)\n",
    "probe_etc = np.loadtxt('probe.dta', usecols = (0,1,2)).astype(int)\n",
    "print(probe_etc)\n",
    "# load qual (user, movie, user, time)\n",
    "qual_etc = np.loadtxt('qual.dta', usecols = (0,1,2)).astype(int)\n",
    "print(qual_etc)"
   ]
  },
  {
   "cell_type": "code",
   "execution_count": 53,
   "metadata": {},
   "outputs": [
    {
     "name": "stdout",
     "output_type": "stream",
     "text": [
      "(1374739, 13)\n",
      "(2749898, 13)\n"
     ]
    }
   ],
   "source": [
    "# Transpose the matrices so they have dimension NUM_QUAL/NUM_PROBE x num_models\n",
    "X_train = np.array(X_train).T\n",
    "# X_train = np.concatenate((X_train, probe_etc), axis = 1)\n",
    "print(X_train.shape)\n",
    "X_test = np.array(X_test).T\n",
    "# X_test = np.concatenate((X_test, qual_etc), axis = 1)\n",
    "print(X_test.shape)"
   ]
  },
  {
   "cell_type": "code",
   "execution_count": 54,
   "metadata": {},
   "outputs": [
    {
     "data": {
      "image/png": "[encoded data removed]",
      "text/plain": [
       "<Figure size 432x288 with 1 Axes>"
      ]
     },
     "metadata": {
      "needs_background": "light"
     },
     "output_type": "display_data"
    }
   ],
   "source": [
    "# get the time aspect \n",
    "probe_time = probe_etc[:,2]\n",
    "qual_time =  qual_etc[:,2]\n",
    "(n, bins_p, patches) = plt.hist(probe_time, bins = NUM_BINS)\n",
    "(n, bins_q, patches) = plt.hist(qual_time, bins = NUM_BINS)"
   ]
  },
  {
   "cell_type": "code",
   "execution_count": 55,
   "metadata": {},
   "outputs": [],
   "source": [
    "# probe stuff\n",
    "probe_bins = [[] for i in range(NUM_BINS + 1)]   # length is number of bins\n",
    "probe_segs = [[] for i in range(NUM_BINS + 1)]  # length is number of bins"
   ]
  },
  {
   "cell_type": "code",
   "execution_count": 56,
   "metadata": {},
   "outputs": [],
   "source": [
    "# populate probe_bins and probe_segs\n",
    "probe_bin_indices = np.digitize(probe_time, bins_p) - 1 # length of probe_ratings\n",
    "for i in range(len(probe)):\n",
    "    bin_number = probe_bin_indices[i]\n",
    "    probe_bins[bin_number].append(X_train[i])\n",
    "    probe_segs[bin_number].append(probe[i])"
   ]
  },
  {
   "cell_type": "code",
   "execution_count": 57,
   "metadata": {},
   "outputs": [
    {
     "name": "stdout",
     "output_type": "stream",
     "text": [
      "3\n",
      "3\n"
     ]
    }
   ],
   "source": [
    "print(len(probe_bins))\n",
    "print(len(probe_segs))"
   ]
  },
  {
   "cell_type": "code",
   "execution_count": 58,
   "metadata": {},
   "outputs": [
    {
     "name": "stdout",
     "output_type": "stream",
     "text": [
      "0 143\n",
      "1 143\n",
      "2 143\n"
     ]
    }
   ],
   "source": [
    "# n_est = 50\n",
    "# step_size = int((150 - 50) / NUM_BINS)\n",
    "# print(\"Starting number of estimators: \", n_est)\n",
    "# print(\"Step size: \", step_size)\n",
    "# print(\"Number of bins: \", NUM_BINS)\n",
    "\n",
    "models = []\n",
    "for k in range(NUM_BINS + 1):\n",
    "    print(k, n_est)\n",
    "#     n_estimators = n_est\n",
    "    model = XGBRegressor()\n",
    "    model.fit(probe_bins[k], probe_segs[k])\n",
    "    models.append(model)\n",
    "#     n_est += step_size\n",
    "    "
   ]
  },
  {
   "cell_type": "code",
   "execution_count": 59,
   "metadata": {},
   "outputs": [],
   "source": [
    "# print(ratings)"
   ]
  },
  {
   "cell_type": "code",
   "execution_count": 60,
   "metadata": {},
   "outputs": [],
   "source": [
    "qual_bins = [[] for i in range(NUM_BINS + 1)]  # length is number of bins\n",
    "qual_bin_indices = np.digitize(qual_time, bins_q) - 1 # length of probe_ratings\n",
    "\n",
    "for i in range(len(X_test)):\n",
    "    row = np.concatenate([[i], X_test[i]])\n",
    "    bin_number = qual_bin_indices[i]\n",
    "    qual_bins[bin_number].append(row)"
   ]
  },
  {
   "cell_type": "code",
   "execution_count": 62,
   "metadata": {},
   "outputs": [],
   "source": [
    "ratings = [None] * NUM_QUAL\n",
    "for i in range(len(qual_bins)):\n",
    "    mat = np.array(qual_bins[i])\n",
    "    indices = mat[:,0]\n",
    "    new_mat = np.delete(mat, 0, 1)\n",
    "    model = models[i]\n",
    "    r = model.predict(new_mat)\n",
    "    for k in range(len(indices)):\n",
    "        ratings[int(indices[k])] = r[k]"
   ]
  },
  {
   "cell_type": "code",
   "execution_count": 63,
   "metadata": {},
   "outputs": [],
   "source": [
    "ratings = np.clip(ratings, 1, 5)\n",
    "\n",
    "f = open(\"output/boosting_time_bin.dta\", \"w+\")\n",
    "\n",
    "for i in range(len(ratings)):\n",
    "    f.write(str(ratings[i]) + '\\n')\n",
    "f.close()"
   ]
  },
  {
   "cell_type": "code",
   "execution_count": null,
   "metadata": {},
   "outputs": [],
   "source": []
  }
 ],
 "metadata": {
  "kernelspec": {
   "display_name": "Python 3",
   "language": "python",
   "name": "python3"
  },
  "language_info": {
   "codemirror_mode": {
    "name": "ipython",
    "version": 3
   },
   "file_extension": ".py",
   "mimetype": "text/x-python",
   "name": "python",
   "nbconvert_exporter": "python",
   "pygments_lexer": "ipython3",
   "version": "3.6.8"
  }
 },
 "nbformat": 4,
 "nbformat_minor": 2
}
