{
 "cells": [
  {
   "cell_type": "code",
   "execution_count": 87,
   "metadata": {},
   "outputs": [],
   "source": [
    "import numpy as np\n",
    "from numpy.linalg import inv\n",
    "import matplotlib.pyplot as plt\n",
    "NUM_QUAL = 2749898\n",
    "NUM_QUIZ = 1408342\n",
    "NUM_BINS = 5\n",
    "from sklearn.metrics import accuracy_score, r2_score, mean_squared_error"
   ]
  },
  {
   "cell_type": "code",
   "execution_count": 88,
   "metadata": {},
   "outputs": [],
   "source": [
    "# predictions on probe\n",
    "probe_predictions = [#\"data/kevin/probe/out_probe_svd_1.92.dta\",\n",
    "                     #\"data/misc/all_mean_probe.dta\",\n",
    "                     \"data/frank/SVDPP_prediction_probe4-04.dta\",\n",
    "                     #\"data/kevin/probe/out_probe_knn_2.dta\",\n",
    "                     \"data/james/probe/SVD_probe5-08.dta\",\n",
    "                     \"data/james/probe/Time_SVDpp_probe6-50.dta\",\n",
    "                     \"data/james/probe/baseline_probe.dta\",\n",
    "                     \"data/james/probe/Time_SVDpp_paper_probe.dta\",\n",
    "                     \"data/james/probe/SVDpp_probe5-46.dta\"\n",
    "                    ]                                    \n",
    "# predictions on qual\n",
    "qual_predictions = [#\"data/kevin/qual/out_qual_svd_1.92.dta\",\n",
    "                    #\"data/misc/all_mean_qual.dta\",\n",
    "                    \"data/frank/SVDPP_prediction_qual4-04.dta\",\n",
    "                    #\"data/kevin/qual/out_qual_knn_2.dta\"\n",
    "                    \"data/james/qual/SVD_qual5-08.dta\",\n",
    "                    \"data/james/qual/Time_SVDpp_qual6-50.dta\",\n",
    "                    \"data/james/qual/baseline_qual.dta\",\n",
    "                    \"data/james/qual/Time_SVDpp_paper_qual.dta\",\n",
    "                    \"data/james/qual/SVDpp_qual5-46.dta\"\n",
    "                    ]\n",
    "num_models = 0"
   ]
  },
  {
   "cell_type": "code",
   "execution_count": 89,
   "metadata": {},
   "outputs": [
    {
     "name": "stdout",
     "output_type": "stream",
     "text": [
      "GOOD TO GO\n"
     ]
    }
   ],
   "source": [
    "num_models = 0\n",
    "if len(probe_predictions) == len(qual_predictions):\n",
    "    num_models = len(probe_predictions)\n",
    "    print(\"GOOD TO GO\")\n",
    "else:\n",
    "    print(\"WE HAVE A PROBLEM\")"
   ]
  },
  {
   "cell_type": "code",
   "execution_count": 90,
   "metadata": {},
   "outputs": [],
   "source": [
    "# load predictions on probe\n",
    "X_train = []\n",
    "for preds in probe_predictions:\n",
    "    X_train.append(np.loadtxt(preds).astype(float))\n",
    "    \n",
    "# load probe (just the ratings)\n",
    "probe = np.loadtxt('probe_ratings.dta').astype(int)"
   ]
  },
  {
   "cell_type": "code",
   "execution_count": 91,
   "metadata": {},
   "outputs": [],
   "source": [
    "# load predictions on quiz\n",
    "X_test = []\n",
    "for preds in qual_predictions:\n",
    "    X_test.append(np.loadtxt(preds).astype(float))"
   ]
  },
  {
   "cell_type": "code",
   "execution_count": 92,
   "metadata": {},
   "outputs": [
    {
     "name": "stdout",
     "output_type": "stream",
     "text": [
      "(1374739, 6)\n",
      "(2749898, 6)\n"
     ]
    }
   ],
   "source": [
    "# Transpose the matrices so they have dimension NUM_QUAL/NUM_PROBE x num_models\n",
    "X_train = np.array(X_train).T\n",
    "print(X_train.shape)\n",
    "X_test = np.array(X_test).T\n",
    "print(X_test.shape)"
   ]
  },
  {
   "cell_type": "code",
   "execution_count": 93,
   "metadata": {},
   "outputs": [],
   "source": [
    "# load probe (user, movie, time)\n",
    "probe_time = np.loadtxt('probe.dta', usecols = (2)).astype(int)\n",
    "# load qual (user, movie, user, time)\n",
    "qual_time = np.loadtxt('qual.dta', usecols = (2)).astype(int)"
   ]
  },
  {
   "cell_type": "code",
   "execution_count": 94,
   "metadata": {},
   "outputs": [
    {
     "data": {
      "image/png": "[encoded data removed]",
      "text/plain": [
       "<Figure size 432x288 with 1 Axes>"
      ]
     },
     "metadata": {
      "needs_background": "light"
     },
     "output_type": "display_data"
    }
   ],
   "source": [
    "#get the bins \n",
    "(n, bins_p, patches) = plt.hist(probe_time, bins=NUM_BINS)\n",
    "# plt.xlim(left=1000, right = 3000)\n",
    "# plt.ylabel('Count')\n",
    "\n",
    "(n, bins_q, patches) = plt.hist(qual_time, bins=NUM_BINS)\n",
    "# plt.xlim(left=1000, right = 3000)\n",
    "# plt.ylabel('Count');\n"
   ]
  },
  {
   "cell_type": "code",
   "execution_count": 95,
   "metadata": {},
   "outputs": [],
   "source": [
    "def getAlphas (A, probe):\n",
    "    A = np.array(A)\n",
    "    probe = np.array(probe)\n",
    "    \n",
    "    A_T = np.transpose(A)\n",
    "    A_TA = np.matmul(A_T, A)\n",
    "#     regularize(A_TA, REG)\n",
    "    return np.dot(inv(A_TA), np.dot(A_T, probe))"
   ]
  },
  {
   "cell_type": "code",
   "execution_count": 96,
   "metadata": {},
   "outputs": [],
   "source": [
    "# probe stuff\n",
    "probe_bins = [[] for i in range(NUM_BINS + 1)]   # length is number of bins\n",
    "probe_segs = [[] for i in range(NUM_BINS + 1)]  # length is number of bins"
   ]
  },
  {
   "cell_type": "code",
   "execution_count": 97,
   "metadata": {},
   "outputs": [],
   "source": [
    "# populate probe_bins and probe_segs\n",
    "probe_bin_indices = np.digitize(probe_time, bins_p) - 1 # length of probe_ratings\n",
    "for i in range(len(probe)):\n",
    "    bin_number = probe_bin_indices[i]\n",
    "    probe_bins[bin_number].append(X_train[i])\n",
    "    probe_segs[bin_number].append(probe[i])\n"
   ]
  },
  {
   "cell_type": "code",
   "execution_count": 98,
   "metadata": {},
   "outputs": [],
   "source": [
    "alphas = []\n",
    "for k in range(NUM_BINS + 1):\n",
    "    alphas.append(getAlphas(probe_bins[k], probe_segs[k]))"
   ]
  },
  {
   "cell_type": "code",
   "execution_count": 66,
   "metadata": {},
   "outputs": [
    {
     "data": {
      "text/plain": [
       "2.9648550986443762"
      ]
     },
     "execution_count": 66,
     "metadata": {},
     "output_type": "execute_result"
    }
   ],
   "source": [
    "# np.dot(X_test[1], alphas[1])"
   ]
  },
  {
   "cell_type": "code",
   "execution_count": 99,
   "metadata": {},
   "outputs": [],
   "source": [
    "qual_bin_indices = np.digitize(qual_time, bins_q) - 1 # length of qual\n",
    "\n",
    "ratings = []\n",
    "for i in range(len(X_test)):\n",
    "    bin_number = qual_bin_indices[i]\n",
    "    r = np.dot(X_test[i], alphas[bin_number])\n",
    "    ratings.append(r)"
   ]
  },
  {
   "cell_type": "code",
   "execution_count": 68,
   "metadata": {},
   "outputs": [
    {
     "name": "stdout",
     "output_type": "stream",
     "text": [
      "2749898\n"
     ]
    }
   ],
   "source": [
    "print(len(ratings))"
   ]
  },
  {
   "cell_type": "code",
   "execution_count": 100,
   "metadata": {},
   "outputs": [],
   "source": [
    "ratings = np.clip(ratings, 1, 5)\n",
    "\n",
    "f = open(\"output/time_bin_lin_blend.dta\", \"w+\")\n",
    "\n",
    "for i in range(len(ratings)):\n",
    "    f.write(str(ratings[i]) + '\\n')\n",
    "f.close()"
   ]
  },
  {
   "cell_type": "code",
   "execution_count": null,
   "metadata": {},
   "outputs": [],
   "source": []
  }
 ],
 "metadata": {
  "kernelspec": {
   "display_name": "Python 3",
   "language": "python",
   "name": "python3"
  },
  "language_info": {
   "codemirror_mode": {
    "name": "ipython",
    "version": 3
   },
   "file_extension": ".py",
   "mimetype": "text/x-python",
   "name": "python",
   "nbconvert_exporter": "python",
   "pygments_lexer": "ipython3",
   "version": "3.6.8"
  }
 },
 "nbformat": 4,
 "nbformat_minor": 2
}
