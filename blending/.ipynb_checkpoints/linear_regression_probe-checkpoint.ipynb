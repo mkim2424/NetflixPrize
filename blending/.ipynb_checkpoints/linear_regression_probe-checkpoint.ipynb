{
 "cells": [
  {
   "cell_type": "code",
   "execution_count": 97,
   "metadata": {},
   "outputs": [],
   "source": [
    "import numpy as np\n",
    "from numpy.linalg import inv\n",
    "NUM_QUAL = 2749898\n",
    "NUM_QUIZ = 1408342\n",
    "from sklearn.metrics import accuracy_score, r2_score, mean_squared_error"
   ]
  },
  {
   "cell_type": "code",
   "execution_count": 99,
   "metadata": {},
   "outputs": [],
   "source": [
    "# predictions on probe\n",
    "probe_predictions = [#\"data/kevin/probe/out_probe_svd_1.92.dta\",\n",
    "                     #\"data/misc/all_mean_probe.dta\",\n",
    "                     \"data/frank/SVDPP_prediction_probe4-04.dta\",\n",
    "                     #\"data/kevin/probe/out_probe_knn_2.dta\",\n",
    "                     \"data/james/probe/SVD_probe5-08.dta\",\n",
    "                     \"data/james/probe/Time_SVDpp_probe6-50.dta\",\n",
    "                     \"data/james/probe/baseline_probe.dta\",\n",
    "                     \"data/james/probe/Time_SVDpp_paper_probe.dta\"\n",
    "                    ]                                    \n",
    "# predictions on quiz\n",
    "qual_predictions = [#\"data/kevin/qual/out_qual_svd_1.92.dta\",\n",
    "                    #\"data/misc/all_mean_qual.dta\",\n",
    "                    \"data/frank/SVDPP_prediction_qual4-04.dta\",\n",
    "                    #\"data/kevin/qual/out_qual_knn_2.dta\"\n",
    "                    \"data/james/qual/SVD_qual5-08.dta\",\n",
    "                    \"data/james/qual/Time_SVDpp_qual6-50.dta\",\n",
    "                    \"data/james/qual/baseline_qual.dta\"\n",
    "                    \"data/james/qual/Time_SVDpp_paper_probe.dta\"\n",
    "                    ]\n",
    "num_models = 0"
   ]
  },
  {
   "cell_type": "code",
   "execution_count": 100,
   "metadata": {},
   "outputs": [
    {
     "name": "stdout",
     "output_type": "stream",
     "text": [
      "GOOD TO GO\n"
     ]
    }
   ],
   "source": [
    "num_models = 0\n",
    "if len(probe_predictions) == len(qual_predictions):\n",
    "    num_models = len(probe_predictions)\n",
    "    print(\"GOOD TO GO\")\n",
    "else:\n",
    "    print(\"WE HAVE A PROBLEM\")"
   ]
  },
  {
   "cell_type": "code",
   "execution_count": 101,
   "metadata": {},
   "outputs": [],
   "source": [
    "# load predictions on probe\n",
    "X_train = []\n",
    "for preds in probe_predictions:\n",
    "    X_train.append(np.loadtxt(preds).astype(float))\n",
    "    \n",
    "# load probe (just the ratings)\n",
    "probe = np.loadtxt('probe_ratings.dta').astype(int)"
   ]
  },
  {
   "cell_type": "code",
   "execution_count": 102,
   "metadata": {},
   "outputs": [
    {
     "name": "stdout",
     "output_type": "stream",
     "text": [
      "0.9086963918851169\n",
      "0.9077655314427673\n",
      "0.8967144772361438\n",
      "0.981649903432738\n"
     ]
    }
   ],
   "source": [
    "# get probe RMSE\n",
    "X_train = np.array(X_train)\n",
    "for row in X_train:\n",
    "    print(mean_squared_error(probe, row)**(1/2))"
   ]
  },
  {
   "cell_type": "code",
   "execution_count": 103,
   "metadata": {},
   "outputs": [],
   "source": [
    "# load predictions on quiz\n",
    "X_test = []\n",
    "for preds in qual_predictions:\n",
    "    X_test.append(np.loadtxt(preds).astype(float))"
   ]
  },
  {
   "cell_type": "code",
   "execution_count": 104,
   "metadata": {},
   "outputs": [
    {
     "name": "stdout",
     "output_type": "stream",
     "text": [
      "(1374739, 4)\n",
      "(2749898, 4)\n"
     ]
    }
   ],
   "source": [
    "# Transpose the matrices so they have dimension NUM_QUAL/NUM_PROBE x num_models\n",
    "X_train = np.array(X_train).T\n",
    "print(X_train.shape)\n",
    "X_test = np.array(X_test).T\n",
    "print(X_test.shape)"
   ]
  },
  {
   "cell_type": "code",
   "execution_count": 105,
   "metadata": {},
   "outputs": [],
   "source": [
    "REG = 0.0000\n",
    "# add regularization\n",
    "def regularize (A, reg):\n",
    "    A.flat[::A.shape[1]+1] += reg * NUM_QUAL\n",
    "\n",
    "def getAlphas (A, probe):\n",
    "    A_T = np.transpose(A)\n",
    "    A_TA = np.matmul(A_T, A)\n",
    "    regularize(A_TA, REG)\n",
    "    return np.dot(inv(A_TA), np.dot(A_T, probe))"
   ]
  },
  {
   "cell_type": "code",
   "execution_count": 106,
   "metadata": {},
   "outputs": [
    {
     "name": "stdout",
     "output_type": "stream",
     "text": [
      "alphas: \n",
      "[ 0.37621863 -0.04927087  0.64536097  0.03242956]\n"
     ]
    }
   ],
   "source": [
    "alphas = getAlphas(X_train, probe)\n",
    "print(\"alphas: \")\n",
    "print(alphas)\n",
    "\n",
    "ratings = np.dot(X_test, np.transpose(alphas))\n",
    "ratings = np.clip(ratings, 1, 5)\n",
    "\n",
    "f = open(\"output/linear_reg_blend.dta\", \"w+\")\n",
    "\n",
    "for i in range(len(ratings)):\n",
    "    f.write(str(ratings[i]) + '\\n')\n",
    "f.close()"
   ]
  },
  {
   "cell_type": "code",
   "execution_count": 28,
   "metadata": {},
   "outputs": [
    {
     "ename": "ValueError",
     "evalue": "Found input variables with inconsistent numbers of samples: [1374739, 2]",
     "output_type": "error",
     "traceback": [
      "\u001b[0;31m---------------------------------------------------------------------------\u001b[0m",
      "\u001b[0;31mValueError\u001b[0m                                Traceback (most recent call last)",
      "\u001b[0;32m<ipython-input-28-cdeec1a0cd16>\u001b[0m in \u001b[0;36m<module>\u001b[0;34m\u001b[0m\n\u001b[0;32m----> 1\u001b[0;31m \u001b[0mmean_squared_error\u001b[0m\u001b[0;34m(\u001b[0m\u001b[0mprobe\u001b[0m\u001b[0;34m,\u001b[0m \u001b[0mX_train\u001b[0m\u001b[0;34m[\u001b[0m\u001b[0;36m0\u001b[0m\u001b[0;34m]\u001b[0m\u001b[0;34m)\u001b[0m\u001b[0;34m\u001b[0m\u001b[0;34m\u001b[0m\u001b[0m\n\u001b[0m\u001b[1;32m      2\u001b[0m \u001b[0mmean_squared_error\u001b[0m\u001b[0;34m(\u001b[0m\u001b[0mprobe\u001b[0m\u001b[0;34m,\u001b[0m \u001b[0mX_train\u001b[0m\u001b[0;34m[\u001b[0m\u001b[0;36m1\u001b[0m\u001b[0;34m]\u001b[0m\u001b[0;34m)\u001b[0m\u001b[0;34m\u001b[0m\u001b[0;34m\u001b[0m\u001b[0m\n",
      "\u001b[0;32m/anaconda3/lib/python3.6/site-packages/sklearn/metrics/regression.py\u001b[0m in \u001b[0;36mmean_squared_error\u001b[0;34m(y_true, y_pred, sample_weight, multioutput)\u001b[0m\n\u001b[1;32m    237\u001b[0m     \"\"\"\n\u001b[1;32m    238\u001b[0m     y_type, y_true, y_pred, multioutput = _check_reg_targets(\n\u001b[0;32m--> 239\u001b[0;31m         y_true, y_pred, multioutput)\n\u001b[0m\u001b[1;32m    240\u001b[0m     \u001b[0mcheck_consistent_length\u001b[0m\u001b[0;34m(\u001b[0m\u001b[0my_true\u001b[0m\u001b[0;34m,\u001b[0m \u001b[0my_pred\u001b[0m\u001b[0;34m,\u001b[0m \u001b[0msample_weight\u001b[0m\u001b[0;34m)\u001b[0m\u001b[0;34m\u001b[0m\u001b[0;34m\u001b[0m\u001b[0m\n\u001b[1;32m    241\u001b[0m     output_errors = np.average((y_true - y_pred) ** 2, axis=0,\n",
      "\u001b[0;32m/anaconda3/lib/python3.6/site-packages/sklearn/metrics/regression.py\u001b[0m in \u001b[0;36m_check_reg_targets\u001b[0;34m(y_true, y_pred, multioutput)\u001b[0m\n\u001b[1;32m     73\u001b[0m \u001b[0;34m\u001b[0m\u001b[0m\n\u001b[1;32m     74\u001b[0m     \"\"\"\n\u001b[0;32m---> 75\u001b[0;31m     \u001b[0mcheck_consistent_length\u001b[0m\u001b[0;34m(\u001b[0m\u001b[0my_true\u001b[0m\u001b[0;34m,\u001b[0m \u001b[0my_pred\u001b[0m\u001b[0;34m)\u001b[0m\u001b[0;34m\u001b[0m\u001b[0;34m\u001b[0m\u001b[0m\n\u001b[0m\u001b[1;32m     76\u001b[0m     \u001b[0my_true\u001b[0m \u001b[0;34m=\u001b[0m \u001b[0mcheck_array\u001b[0m\u001b[0;34m(\u001b[0m\u001b[0my_true\u001b[0m\u001b[0;34m,\u001b[0m \u001b[0mensure_2d\u001b[0m\u001b[0;34m=\u001b[0m\u001b[0;32mFalse\u001b[0m\u001b[0;34m)\u001b[0m\u001b[0;34m\u001b[0m\u001b[0;34m\u001b[0m\u001b[0m\n\u001b[1;32m     77\u001b[0m     \u001b[0my_pred\u001b[0m \u001b[0;34m=\u001b[0m \u001b[0mcheck_array\u001b[0m\u001b[0;34m(\u001b[0m\u001b[0my_pred\u001b[0m\u001b[0;34m,\u001b[0m \u001b[0mensure_2d\u001b[0m\u001b[0;34m=\u001b[0m\u001b[0;32mFalse\u001b[0m\u001b[0;34m)\u001b[0m\u001b[0;34m\u001b[0m\u001b[0;34m\u001b[0m\u001b[0m\n",
      "\u001b[0;32m/anaconda3/lib/python3.6/site-packages/sklearn/utils/validation.py\u001b[0m in \u001b[0;36mcheck_consistent_length\u001b[0;34m(*arrays)\u001b[0m\n\u001b[1;32m    233\u001b[0m     \u001b[0;32mif\u001b[0m \u001b[0mlen\u001b[0m\u001b[0;34m(\u001b[0m\u001b[0muniques\u001b[0m\u001b[0;34m)\u001b[0m \u001b[0;34m>\u001b[0m \u001b[0;36m1\u001b[0m\u001b[0;34m:\u001b[0m\u001b[0;34m\u001b[0m\u001b[0;34m\u001b[0m\u001b[0m\n\u001b[1;32m    234\u001b[0m         raise ValueError(\"Found input variables with inconsistent numbers of\"\n\u001b[0;32m--> 235\u001b[0;31m                          \" samples: %r\" % [int(l) for l in lengths])\n\u001b[0m\u001b[1;32m    236\u001b[0m \u001b[0;34m\u001b[0m\u001b[0m\n\u001b[1;32m    237\u001b[0m \u001b[0;34m\u001b[0m\u001b[0m\n",
      "\u001b[0;31mValueError\u001b[0m: Found input variables with inconsistent numbers of samples: [1374739, 2]"
     ]
    }
   ],
   "source": [
    "mean_squared_error(probe, X_train[0])\n",
    "mean_squared_error(probe, X_train[1])"
   ]
  },
  {
   "cell_type": "code",
   "execution_count": null,
   "metadata": {},
   "outputs": [],
   "source": []
  }
 ],
 "metadata": {
  "kernelspec": {
   "display_name": "Python 3",
   "language": "python",
   "name": "python3"
  },
  "language_info": {
   "codemirror_mode": {
    "name": "ipython",
    "version": 3
   },
   "file_extension": ".py",
   "mimetype": "text/x-python",
   "name": "python",
   "nbconvert_exporter": "python",
   "pygments_lexer": "ipython3",
   "version": "3.6.8"
  }
 },
 "nbformat": 4,
 "nbformat_minor": 2
}
