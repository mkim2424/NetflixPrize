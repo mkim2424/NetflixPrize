{
 "cells": [
  {
   "cell_type": "code",
   "execution_count": 87,
   "metadata": {},
   "outputs": [],
   "source": [
    "import numpy as np\n",
    "from numpy.linalg import inv\n",
    "NUM_QUAL = 2749898\n",
    "NUM_QUIZ = 1408342\n",
    "RMSE_ZEROS = 3.84358 \n",
    "MYS_ZERO = RMSE_ZEROS**(2) * NUM_QUAL\n",
    "# regularization matrix with ridge regression 1.35 (3) was the best 0.85 (svdpp1 and james 5). best 0.75 svdpp and james 6 \n",
    "REG = 1.5"
   ]
  },
  {
   "cell_type": "code",
   "execution_count": 88,
   "metadata": {},
   "outputs": [],
   "source": [
    "# returns M x 1 array\n",
    "def A_Ts (A_T):\n",
    "    arr = []\n",
    "    for row in A_T:\n",
    "        value = 0.5 * (sum(row**2) + MYS_ZERO)\n",
    "        arr.append(value)\n",
    "    return np.array(arr)\n",
    "\n",
    "# add regularization\n",
    "def regularize (A, reg):\n",
    "    A.flat[::A.shape[1]+1] += reg * NUM_QUAL\n",
    "\n",
    "def getAlphas (A):\n",
    "    A_T = np.transpose(A)\n",
    "    A_TA = np.matmul(A_T, A)\n",
    "    regularize(A_TA, REG)\n",
    "    return np.dot(inv(A_TA), A_Ts(A_T))"
   ]
  },
  {
   "cell_type": "code",
   "execution_count": 83,
   "metadata": {},
   "outputs": [
    {
     "name": "stdout",
     "output_type": "stream",
     "text": [
      "Start Loading Data\n",
      "Finished Loading Data\n"
     ]
    }
   ],
   "source": [
    "print(\"Start Loading Data\")\n",
    "# load ratings\n",
    "# james_ratings = np.loadtxt(\"data/james/k_10_epoch_40_reg_0.001000bias.dta\").astype(float)\n",
    "# kevin_ratings = np.loadtxt(\"data/kevin/rSVD_1-31%.dta\").astype(float)\n",
    "# svdpp = np.loadtxt(\"data/frank/SVDPP_predictions.dta\").astype(float)\n",
    "svdpp1 = np.loadtxt(\"data/frank/SVDPP_prediction_qual4-04.dta\").astype(float)\n",
    "# james1 = np.loadtxt(\"data/james/k_50_epoch_20_reg_0.1_eta_0.01_ABOVE.dta\").astype(float)\n",
    "# james2 = np.loadtxt(\"data/james/k_50_epoch_20_reg_0.075_eta_0.01BEST.dta\").astype(float)\n",
    "# james3 = np.loadtxt(\"data/james/k_50_ep_100_reg_0.065000_eta_0.0100003-81.dta\").astype(float)\n",
    "# james4 = np.loadtxt(\"data/james/qual/svdpp_k_50_ep_30_reg_0.005000_reg2_0.015000_reg3_0.015000_eta_0.007000_eta2_0.007000_eta3_0.007000_decay_0.9000004-08.dta\").astype(float)\n",
    "#james5 = np.loadtxt(\"data/james/qual/time_k_50_ep_20_reg_0.005000_reg2_0.015000_reg3_0.015000_rega_10.000000_eta_0.007000_eta2_0.007000_eta3_0.007000_etaa_0.000010_decay_0.900000.dta\").astype(float)\n",
    "# james6 = np.loadtxt(\"data/james/qual/reset.dta\").astype(float)\n",
    "james6 = np.loadtxt(\"data/james/qual/SVD_qual5-08.dta\").astype(float)\n",
    "james7 = np.loadtxt(\"data/james/qual/Time_SVDpp_qual6-50.dta\").astype(float)\n",
    "# kevin1 = np.loadtxt(\"data/kevin/out_quiz.dta\").astype(float)\n",
    "# kevin2 = np.loadtxt(\"data/kevin/qual/out_qual_svd_1.92.dta\").astype(float)\n",
    "# kevin_knn_svd = np.loadtxt(\"output/nnblend_wknn2_21.dta\").astype(float)\n",
    "# boosted = np.loadtxt(\"output/boosting_wknn.dta\").astype(float)\n",
    "\n",
    "print(\"Finished Loading Data\")\n",
    "\n"
   ]
  },
  {
   "cell_type": "code",
   "execution_count": 89,
   "metadata": {},
   "outputs": [
    {
     "name": "stdout",
     "output_type": "stream",
     "text": [
      "alphas: \n",
      "[0.33471708 0.32880333 0.33061082]\n"
     ]
    }
   ],
   "source": [
    "models = []\n",
    "# append ratings\n",
    "# models.append(james_ratings)\n",
    "# models.append(kevin_ratings)\n",
    "# models.append(svdpp)\n",
    "models.append(svdpp1)\n",
    "# models.append(james1)\n",
    "# models.append(james2)\n",
    "# models.append(james3)\n",
    "# models.append(james4)\n",
    "# models.append(james6)\n",
    "models.append(james7)\n",
    "# models.append(kevin1)\n",
    "# models.append(kevin2)\n",
    "# models.append(kevin_knn_svd)\n",
    "# models.append(boosted)\n",
    "\n",
    "\n",
    "\n",
    "models = np.array(models)\n",
    "A = np.transpose(models)\n",
    "\n",
    "alphas = getAlphas(A)\n",
    "print(\"alphas: \")\n",
    "print(alphas)\n",
    "\n",
    "ratings = np.dot(A, np.transpose(alphas))\n",
    "ratings = np.clip(ratings, 1, 5)\n",
    "\n",
    "f = open(\"output/time_svd++_w_svd.dta\", \"w+\")\n",
    "\n",
    "for i in range(len(ratings)):\n",
    "    f.write(str(ratings[i]) + '\\n')\n",
    "f.close()"
   ]
  },
  {
   "cell_type": "code",
   "execution_count": 70,
   "metadata": {},
   "outputs": [],
   "source": [
    "# alphas = np.array([0.501, .502])\n",
    "# print(\"alphas: \")\n",
    "# print(alphas)\n",
    "\n",
    "# ratings = np.dot(A, np.transpose(alphas))\n",
    "# ratings = np.clip(ratings, 1, 5)\n",
    "\n",
    "# f = open(\"output/time_svd++_w_svd.dta\", \"w+\")\n",
    "\n",
    "# for i in range(len(ratings)):\n",
    "#     f.write(str(ratings[i]) + '\\n')\n",
    "# f.close()"
   ]
  },
  {
   "cell_type": "code",
   "execution_count": null,
   "metadata": {},
   "outputs": [],
   "source": []
  }
 ],
 "metadata": {
  "kernelspec": {
   "display_name": "Python 3",
   "language": "python",
   "name": "python3"
  },
  "language_info": {
   "codemirror_mode": {
    "name": "ipython",
    "version": 3
   },
   "file_extension": ".py",
   "mimetype": "text/x-python",
   "name": "python",
   "nbconvert_exporter": "python",
   "pygments_lexer": "ipython3",
   "version": "3.6.8"
  }
 },
 "nbformat": 4,
 "nbformat_minor": 2
}
