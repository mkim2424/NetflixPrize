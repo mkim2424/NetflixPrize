{
 "cells": [
  {
   "cell_type": "code",
   "execution_count": 56,
   "metadata": {},
   "outputs": [],
   "source": [
    "import numpy as np\n",
    "from numpy.linalg import inv\n",
    "NUM_QUAL = 2749898\n",
    "NUM_QUIZ = 1408342\n",
    "RMSE_ZEROS = 3.84358 \n",
    "QUIZ_MEAN = 3.674\n",
    "QUIZ_VAR = 1.274\n",
    "# regularization matrix with ridge regression 1.35 (3) was the best 0.85 (svdpp1 and james 5)\n",
    "REG = 0.3"
   ]
  },
  {
   "cell_type": "code",
   "execution_count": 57,
   "metadata": {},
   "outputs": [
    {
     "name": "stdout",
     "output_type": "stream",
     "text": [
      "Finished Loading Data\n"
     ]
    }
   ],
   "source": [
    "qual_predictions = [#\"data/kevin/qual/out_qual_svd_1.92.dta\",\n",
    "                    #\"data/misc/all_mean_qual.dta\",\n",
    "                    \"data/frank/SVDPP_prediction_qual4-04.dta\",\n",
    "                    #\"data/kevin/qual/out_qual_knn_2.dta\"\n",
    "                    #\"data/james/qual/SVD_qual5-08.dta\",\n",
    "                    \"data/james/qual/Time_SVDpp_qual6-50.dta\"\n",
    "                    #\"data/james/qual/baseline_qual.dta\",\n",
    "                    #\"data/james/qual/Time_SVDpp_paper_qual.dta\",\n",
    "                    #\"data/james/qual/SVDpp_qual5-46.dta\"\n",
    "                    ]\n",
    "\n",
    "print(\"Finished Loading Data\")"
   ]
  },
  {
   "cell_type": "code",
   "execution_count": 61,
   "metadata": {},
   "outputs": [],
   "source": [
    "# mean center the data (True for subtracting, False for adding)\n",
    "def mean_center(models, subtract):\n",
    "    new_arr = []\n",
    "    mean = QUIZ_MEAN\n",
    "    if subtract == False:\n",
    "        mean *= -1\n",
    "    for row in models:\n",
    "        new_arr.append(np.array(row) - mean)\n",
    "    return np.array(new_arr)\n",
    "     \n",
    "# returns M x 1 array\n",
    "def get_A_Ts(A_T, rmse):\n",
    "    arr = []\n",
    "    assert(len(A_T) == len(rmse))\n",
    "    for i in range(len(rmse)):\n",
    "        value = 0.5 * (NUM_QUIZ*QUIZ_VAR + sum(A_T[i]**2) + NUM_QUIZ*(rmse[i]**2))\n",
    "        arr.append(value)\n",
    "    return np.array(arr)\n",
    "\n",
    "# add regularization\n",
    "def regularize (A, reg):\n",
    "    A.flat[::A.shape[1]+1] += reg * NUM_QUAL\n",
    "\n",
    "def getAlphas (A, rmse):\n",
    "    A_T = np.transpose(A)\n",
    "    A_TA = np.matmul(A_T, A)\n",
    "    regularize(A_TA, REG)\n",
    "    return np.dot(inv(A_TA), get_A_Ts(A_T, rmse))"
   ]
  },
  {
   "cell_type": "code",
   "execution_count": 59,
   "metadata": {},
   "outputs": [],
   "source": [
    "models = []\n",
    "for preds in qual_predictions:\n",
    "    models.append(np.loadtxt(preds).astype(float))\n",
    "\n",
    "\n",
    "models = np.array(models)\n",
    "\n",
    "\n",
    "# mean center the ratings for each model\n",
    "centered_models = mean_center(models, True)\n",
    "A = np.transpose(centered_models)\n",
    "\n",
    "rmse = [0.91296, 0.88961]\n",
    "rmse = np.array(rmse)\n",
    "assert(len(models) == len(rmse))\n",
    "\n"
   ]
  },
  {
   "cell_type": "code",
   "execution_count": 60,
   "metadata": {},
   "outputs": [
    {
     "name": "stdout",
     "output_type": "stream",
     "text": [
      "alphas:  [0.61554271 0.60545932]\n",
      "[3.77440041 3.35626423 5.         ... 4.3232266  3.42195125 3.59249621]\n"
     ]
    }
   ],
   "source": [
    "alphas = getAlphas(A, rmse)\n",
    "print(\"alphas: \", alphas)\n",
    "# revert the mean centering of each model\n",
    "\n",
    "\n",
    "ratings = np.dot(A, alphas)\n",
    "ratings = np.clip(ratings, 1, 5)\n",
    "print(ratings)\n",
    "f = open(\"output/everything_quiz.dta\", \"w+\")\n",
    "\n",
    "for i in range(len(ratings)):\n",
    "    f.write(str(ratings[i]) + '\\n')\n",
    "f.close()"
   ]
  },
  {
   "cell_type": "code",
   "execution_count": null,
   "metadata": {},
   "outputs": [],
   "source": []
  }
 ],
 "metadata": {
  "kernelspec": {
   "display_name": "Python 3",
   "language": "python",
   "name": "python3"
  },
  "language_info": {
   "codemirror_mode": {
    "name": "ipython",
    "version": 3
   },
   "file_extension": ".py",
   "mimetype": "text/x-python",
   "name": "python",
   "nbconvert_exporter": "python",
   "pygments_lexer": "ipython3",
   "version": "3.6.8"
  }
 },
 "nbformat": 4,
 "nbformat_minor": 2
}
