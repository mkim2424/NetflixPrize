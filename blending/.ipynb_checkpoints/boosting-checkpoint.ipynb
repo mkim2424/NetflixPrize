{
 "cells": [
  {
   "cell_type": "code",
   "execution_count": 84,
   "metadata": {},
   "outputs": [],
   "source": [
    "import numpy as np\n",
    "from xgboost import XGBRegressor, XGBClassifier\n",
    "from sklearn.metrics import accuracy_score, r2_score, mean_squared_error\n",
    "import time\n",
    "\n",
    "NUM_TRAINING = 102416306 - 2749898\n",
    "NUM_QUAL = 2749898"
   ]
  },
  {
   "cell_type": "code",
   "execution_count": 85,
   "metadata": {},
   "outputs": [],
   "source": [
    "# predictions on probe\n",
    "probe_predictions = [#\"data/kevin/probe/out_probe_svd_1.92.dta\",\n",
    "                     #\"data/misc/all_mean_probe.dta\",\n",
    "                     \"data/frank/SVDPP_prediction_probe4-04.dta\",\n",
    "                     #\"data/kevin/probe/out_probe_knn_2.dta\",\n",
    "                     \"data/james/probe/SVD_probe5-08.dta\",\n",
    "                     \"data/james/probe/Time_SVDpp_probe6-50.dta\",\n",
    "                     \"data/james/probe/baseline_probe.dta\",\n",
    "                     \"data/james/probe/Time_SVDpp_paper_probe.dta\",\n",
    "                     \"data/james/probe/SVDpp_probe5-46.dta\",\n",
    "                     \"data/james/probe/FactorNM_probe.dta\",\n",
    "                     \"data/kevin/probe/f_knn_p.dta\",\n",
    "                     \"data/james/probe/time_probe_k_200.dta\",\n",
    "                     #\"data/kevin/probe/f_rsvd_p.dta\",\n",
    "                     \"data/james/probe/svdpp_200_probe.dta\",\n",
    "                     \"data/james/probe/Time_SVD_probe200k.dta\",\n",
    "                     \"data/james/probe/rsvd_probe200k.dta\",\n",
    "                     \"data/james/probe/BEST_probe.dta\"\n",
    "        \n",
    "                    ]                                    \n",
    "# predictions on quiz\n",
    "qual_predictions = [#\"data/kevin/qual/out_qual_svd_1.92.dta\",\n",
    "                    #\"data/misc/all_mean_qual.dta\",\n",
    "                    \"data/frank/SVDPP_prediction_qual4-04.dta\",\n",
    "                    #\"data/kevin/qual/out_qual_knn_2.dta\"\n",
    "                    \"data/james/qual/SVD_qual5-08.dta\",\n",
    "                    \"data/james/qual/Time_SVDpp_qual6-50.dta\",\n",
    "                    \"data/james/qual/baseline_qual.dta\",\n",
    "                    \"data/james/qual/Time_SVDpp_paper_qual.dta\",\n",
    "                    \"data/james/qual/SVDpp_qual5-46.dta\",\n",
    "                    \"data/james/qual/FactorNM_qual.dta\",\n",
    "                    \"data/kevin/qual/f_knn_q.dta\",\n",
    "                    \"data/james/qual/time_qual_k_200.dta\",\n",
    "                    #\"data/kevin/qual/f_rsvd_q.dta\"\n",
    "                    \"data/james/qual/svdpp_200_qual.dta\",\n",
    "                    \"data/james/qual/Time_SVD_qual200k.dta\",\n",
    "                    \"data/james/qual/rsvd_qual200k.dta\",\n",
    "                    \"data/james/qual/BEST_qual.dta\",\n",
    "                    \"data/james/qual/SVDpp_diff_200k_qual.dta\"\n",
    "                    ]\n",
    "num_models = 0"
   ]
  },
  {
   "cell_type": "code",
   "execution_count": 86,
   "metadata": {},
   "outputs": [
    {
     "name": "stdout",
     "output_type": "stream",
     "text": [
      "GOOD TO GO\n"
     ]
    }
   ],
   "source": [
    "# check if length of probe_predictions matches length of quiz predictions\n",
    "if len(probe_predictions) == len(qual_predictions):\n",
    "    num_models = len(probe_predictions)\n",
    "    print(\"GOOD TO GO\")\n",
    "else:\n",
    "    print(\"WE HAVE A PROBLEM\")"
   ]
  },
  {
   "cell_type": "code",
   "execution_count": 87,
   "metadata": {},
   "outputs": [],
   "source": [
    "# load predictions on probe\n",
    "X_train = []\n",
    "for preds in probe_predictions:\n",
    "    X_train.append(np.loadtxt(preds).astype(float))\n",
    "# load probe (just the ratings)\n",
    "probe = np.loadtxt('probe_ratings.dta').astype(int)"
   ]
  },
  {
   "cell_type": "code",
   "execution_count": 88,
   "metadata": {},
   "outputs": [
    {
     "name": "stdout",
     "output_type": "stream",
     "text": [
      "0.9086963918851169\n",
      "0.9077655314427673\n",
      "0.8967144772361438\n",
      "0.981649903432738\n",
      "0.9028227658834477\n",
      "0.9047754358711888\n",
      "0.9228315090842276\n",
      "0.9673093674400307\n",
      "0.904133959659072\n",
      "0.8954024329243798\n",
      "0.8971075341716337\n",
      "0.9046306793486693\n",
      "0.8880008411170954\n"
     ]
    }
   ],
   "source": [
    "# get probe RMSE\n",
    "X_train = np.array(X_train)\n",
    "for row in X_train:\n",
    "    print(mean_squared_error(probe, row)**(1/2))"
   ]
  },
  {
   "cell_type": "code",
   "execution_count": 89,
   "metadata": {},
   "outputs": [],
   "source": [
    "# load predictions on quiz\n",
    "X_test = []\n",
    "for preds in qual_predictions:\n",
    "    X_test.append(np.loadtxt(preds).astype(float))"
   ]
  },
  {
   "cell_type": "code",
   "execution_count": 80,
   "metadata": {},
   "outputs": [],
   "source": [
    "# # load probe (user, movie, time)\n",
    "# probe_etc = np.loadtxt('probe.dta', usecols = (0,1,2)).astype(int)\n",
    "# print(probe_etc)\n",
    "# # load qual (user, movie, user, time)\n",
    "# qual_etc = np.loadtxt('qual.dta', usecols = (0,1,2)).astype(int)\n",
    "# print(qual_etc)"
   ]
  },
  {
   "cell_type": "code",
   "execution_count": 90,
   "metadata": {},
   "outputs": [
    {
     "name": "stdout",
     "output_type": "stream",
     "text": [
      "(1374739, 13)\n",
      "(2749898, 13)\n"
     ]
    }
   ],
   "source": [
    "# Transpose the matrices so they have dimension NUM_QUAL/NUM_PROBE x num_models\n",
    "X_train = np.array(X_train).T\n",
    "# X_train = np.concatenate((X_train, probe_etc), axis = 1)\n",
    "print(X_train.shape)\n",
    "X_test = np.array(X_test).T\n",
    "# X_test = np.concatenate((X_test, qual_etc), axis = 1)\n",
    "print(X_test.shape)"
   ]
  },
  {
   "cell_type": "code",
   "execution_count": 91,
   "metadata": {},
   "outputs": [
    {
     "name": "stdout",
     "output_type": "stream",
     "text": [
      "Training error:  0.8810632823669504\n",
      "Program took 381.46032094955444 to run\n"
     ]
    }
   ],
   "source": [
    "start_time = time.time()\n",
    "# verbosity = 2, eta = 0.1, n_estimators = 100\n",
    "model = XGBRegressor()\n",
    "model.fit(X_train, probe)\n",
    "\n",
    "# get training error\n",
    "ratings_probe = model.predict(X_train)\n",
    "print(\"Training error: \", (mean_squared_error(probe, ratings_probe))**(1/2))\n",
    "\n",
    "# get qual ratings\n",
    "ratings_qual = model.predict(X_test)\n",
    "ratings_qual = np.clip(ratings_qual, 1, 5)\n",
    "\n",
    "print(\"Program took\", time.time() - start_time, \"to run\")"
   ]
  },
  {
   "cell_type": "code",
   "execution_count": 92,
   "metadata": {},
   "outputs": [
    {
     "name": "stdout",
     "output_type": "stream",
     "text": [
      "0\n",
      "1000000\n",
      "2000000\n"
     ]
    }
   ],
   "source": [
    "f = open(\"output/boosting.dta\", \"w+\")\n",
    "for i in range(len(ratings_qual)):\n",
    "    if (i % 1000000 == 0):\n",
    "        print(i)\n",
    "    f.write(str(ratings_qual[i]) + '\\n')\n",
    "f.close()"
   ]
  },
  {
   "cell_type": "code",
   "execution_count": null,
   "metadata": {},
   "outputs": [],
   "source": []
  }
 ],
 "metadata": {
  "kernelspec": {
   "display_name": "Python 3",
   "language": "python",
   "name": "python3"
  },
  "language_info": {
   "codemirror_mode": {
    "name": "ipython",
    "version": 3
   },
   "file_extension": ".py",
   "mimetype": "text/x-python",
   "name": "python",
   "nbconvert_exporter": "python",
   "pygments_lexer": "ipython3",
   "version": "3.6.8"
  }
 },
 "nbformat": 4,
 "nbformat_minor": 2
}
