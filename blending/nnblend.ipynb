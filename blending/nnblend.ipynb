{
 "cells": [
  {
   "cell_type": "code",
   "execution_count": 190,
   "metadata": {},
   "outputs": [],
   "source": [
    "import keras\n",
    "from keras import backend as K\n",
    "import numpy as np\n",
    "from keras.models import Sequential\n",
    "from keras.layers import Dropout\n",
    "from keras.layers import Activation\n",
    "from keras.layers import Dense\n",
    "from keras.wrappers.scikit_learn import KerasRegressor"
   ]
  },
  {
   "cell_type": "code",
   "execution_count": 191,
   "metadata": {},
   "outputs": [],
   "source": [
    "# predictions on probe\n",
    "probe_predictions = [#\"data/kevin/probe/out_probe_svd_1.92.dta\",\n",
    "                     # \"data/misc/all_threes_probe.dta\",\n",
    "                     \"data/frank/SVDPP_prediction_probe4-04.dta\",\n",
    "                     #\"data/kevin/probe/out_probe_knn_2.dta\",\n",
    "                     \"data/james/probe/SVD_probe5-08.dta\",\n",
    "                     \"data/james/probe/Time_SVDpp_probe6-50.dta\"\n",
    "                    ]                                    \n",
    "# predictions on quiz\n",
    "qual_predictions = [#\"data/kevin/qual/out_qual_svd_1.92.dta\",\n",
    "                    #\"data/misc/all_threes_qual.dta\",\n",
    "                    \"data/frank/SVDPP_prediction_qual4-04.dta\",\n",
    "                    #\"data/kevin/qual/out_qual_knn_2.dta\"\n",
    "                    \"data/james/qual/SVD_qual5-08.dta\",\n",
    "                    \"data/james/qual/Time_SVDpp_qual6-50.dta\"\n",
    "                    ]\n",
    "num_models = 0"
   ]
  },
  {
   "cell_type": "code",
   "execution_count": 192,
   "metadata": {},
   "outputs": [
    {
     "name": "stdout",
     "output_type": "stream",
     "text": [
      "GOOD TO GO\n"
     ]
    }
   ],
   "source": [
    "num_models = 0\n",
    "if len(probe_predictions) == len(qual_predictions):\n",
    "    num_models = len(probe_predictions)\n",
    "    print(\"GOOD TO GO\")\n",
    "else:\n",
    "    print(\"WE HAVE A PROBLEM\")"
   ]
  },
  {
   "cell_type": "code",
   "execution_count": 193,
   "metadata": {},
   "outputs": [],
   "source": [
    "# load predictions on probe\n",
    "X_train = []\n",
    "for preds in probe_predictions:\n",
    "    X_train.append(np.loadtxt(preds).astype(float))\n",
    "    \n",
    "# load probe (just the ratings)\n",
    "probe = np.loadtxt('probe_ratings.dta').astype(int)"
   ]
  },
  {
   "cell_type": "code",
   "execution_count": 194,
   "metadata": {},
   "outputs": [],
   "source": [
    "# load predictions on quiz\n",
    "X_test = []\n",
    "for preds in qual_predictions:\n",
    "    X_test.append(np.loadtxt(preds).astype(float))"
   ]
  },
  {
   "cell_type": "code",
   "execution_count": 195,
   "metadata": {},
   "outputs": [
    {
     "name": "stdout",
     "output_type": "stream",
     "text": [
      "[[     1  14708   2160]\n",
      " [     1  16933   2160]\n",
      " [     2   3912   2039]\n",
      " ...\n",
      " [458292  13157   2211]\n",
      " [458292  14582   2184]\n",
      " [458293   8578   2224]]\n",
      "[[     1   4624   2160]\n",
      " [     1   7218   2160]\n",
      " [     1   8346   2160]\n",
      " ...\n",
      " [458293  12636   2232]\n",
      " [458293  15905   2224]\n",
      " [458293  17425   2236]]\n"
     ]
    }
   ],
   "source": [
    "# load probe (user, movie, time)\n",
    "probe_etc = np.loadtxt('probe.dta', usecols = (0,1,2)).astype(int)\n",
    "print(probe_etc)\n",
    "# load qual (user, movie, user, time)\n",
    "qual_etc = np.loadtxt('qual.dta', usecols = (0,1,2)).astype(int)\n",
    "print(qual_etc)"
   ]
  },
  {
   "cell_type": "code",
   "execution_count": 196,
   "metadata": {},
   "outputs": [
    {
     "name": "stdout",
     "output_type": "stream",
     "text": [
      "(1374739, 6)\n",
      "(2749898, 6)\n"
     ]
    }
   ],
   "source": [
    "# Transpose the matrices so they have dimension NUM_QUAL/NUM_PROBE x num_models\n",
    "X_train = np.array(X_train).T\n",
    "X_train = np.concatenate((X_train, probe_etc), axis = 1)\n",
    "print(X_train.shape)\n",
    "X_test = np.array(X_test).T\n",
    "X_test = np.concatenate((X_test, qual_etc), axis = 1)\n",
    "print(X_test.shape)"
   ]
  },
  {
   "cell_type": "code",
   "execution_count": 202,
   "metadata": {},
   "outputs": [],
   "source": [
    "def root_mean_squared_error(y_true, y_pred):\n",
    "        return K.sqrt(K.mean(K.square(y_pred - y_true))) "
   ]
  },
  {
   "cell_type": "code",
   "execution_count": 219,
   "metadata": {},
   "outputs": [],
   "source": [
    "# making the neural network model\n",
    "def baseline_model():\n",
    "    # create model\n",
    "    model = Sequential()\n",
    "    #model.add(Dense(13, input_dim = num_models, kernel_initializer='normal', activation='relu'))\n",
    "    model.add(Dense(45, input_dim = num_models + 3, activation='relu'))\n",
    "#     model.add(Dropout(0.1))\n",
    "    model.add(Dense(10, activation='relu'))\n",
    "    model.add(Dense(1, activation = 'linear'))\n",
    "#     model.add(Dropout(0.1))\n",
    "    model.add(Dense(1))\n",
    "    model.compile(loss= root_mean_squared_error, metrics=['acc'], optimizer='adam')\n",
    "    return model"
   ]
  },
  {
   "cell_type": "code",
   "execution_count": 220,
   "metadata": {},
   "outputs": [
    {
     "name": "stdout",
     "output_type": "stream",
     "text": [
      "Epoch 1/7\n",
      "1374739/1374739 [==============================] - 92s 67us/step - loss: 48.6318 - acc: 0.1385\n",
      "Epoch 2/7\n",
      "1374739/1374739 [==============================] - 43s 31us/step - loss: 1.1600 - acc: 0.3068\n",
      "Epoch 3/7\n",
      "1374739/1374739 [==============================] - 63s 46us/step - loss: 1.1486 - acc: 0.3094\n",
      "Epoch 4/7\n",
      "1374739/1374739 [==============================] - 43s 31us/step - loss: 1.1178 - acc: 0.3200\n",
      "Epoch 5/7\n",
      "1374739/1374739 [==============================] - 51s 37us/step - loss: 1.0604 - acc: 0.3456\n",
      "Epoch 6/7\n",
      "1374739/1374739 [==============================] - 51s 37us/step - loss: 1.0414 - acc: 0.3568\n",
      "Epoch 7/7\n",
      "1374739/1374739 [==============================] - 67s 49us/step - loss: 1.0617 - acc: 0.3500\n"
     ]
    }
   ],
   "source": [
    "model = baseline_model()\n",
    "model.fit(X_train, probe, epochs=7, batch_size = 200)\n",
    "ratings = model.predict(X_test)"
   ]
  },
  {
   "cell_type": "code",
   "execution_count": 221,
   "metadata": {},
   "outputs": [
    {
     "name": "stdout",
     "output_type": "stream",
     "text": [
      "[3.4660058 3.3558054 4.507613  ... 3.3097897 3.3097897 3.3097897]\n"
     ]
    }
   ],
   "source": [
    "ratings = np.clip(ratings, 1, 5)\n",
    "ratings = ratings.ravel()\n",
    "print(ratings)"
   ]
  },
  {
   "cell_type": "code",
   "execution_count": 222,
   "metadata": {},
   "outputs": [
    {
     "name": "stdout",
     "output_type": "stream",
     "text": [
      "0\n",
      "1000000\n",
      "2000000\n"
     ]
    }
   ],
   "source": [
    "f = open(\"output/new_nn.dta\", \"w+\")\n",
    "for i in range(len(ratings)):\n",
    "    if (i % 1000000 == 0):\n",
    "        print(i)\n",
    "    f.write(str(ratings[i]) + '\\n')\n",
    "f.close()"
   ]
  },
  {
   "cell_type": "code",
   "execution_count": null,
   "metadata": {},
   "outputs": [],
   "source": []
  }
 ],
 "metadata": {
  "kernelspec": {
   "display_name": "Python 3",
   "language": "python",
   "name": "python3"
  },
  "language_info": {
   "codemirror_mode": {
    "name": "ipython",
    "version": 3
   },
   "file_extension": ".py",
   "mimetype": "text/x-python",
   "name": "python",
   "nbconvert_exporter": "python",
   "pygments_lexer": "ipython3",
   "version": "3.6.8"
  }
 },
 "nbformat": 4,
 "nbformat_minor": 2
}
